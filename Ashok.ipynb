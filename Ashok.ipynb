{
 "cells": [
  {
   "cell_type": "code",
   "execution_count": 1,
   "id": "d1f2aaab-527a-412c-bf68-3e70dd196cdd",
   "metadata": {},
   "outputs": [
    {
     "name": "stdout",
     "output_type": "stream",
     "text": [
      "The factorial of 6 is 720\n"
     ]
    }
   ],
   "source": [
    "#Write a python program to find the factorial of a number.\n",
    "num = 6\n",
    "factorial = 1\n",
    "\n",
    "for i in range(1, num + 1):\n",
    "    factorial *= i\n",
    "\n",
    "print(f\"The factorial of {num} is {factorial}\")\n"
   ]
  },
  {
   "cell_type": "code",
   "execution_count": 2,
   "id": "190b7dc1-120d-4287-b66b-8a3ac8439acc",
   "metadata": {},
   "outputs": [
    {
     "name": "stdout",
     "output_type": "stream",
     "text": [
      "11 is a prime number\n"
     ]
    }
   ],
   "source": [
    "#Write a python program to find whether a number is prime or composite.\n",
    "num = 11\n",
    "if num > 1:\n",
    "  \n",
    "    for i in range(2, (num//2)+1):\n",
    "      \n",
    "        if (num % i) == 0:\n",
    "            print(num, \"is not a prime number\")\n",
    "            break\n",
    "    else:\n",
    "        print(num, \"is a prime number\")\n",
    "else:\n",
    "    print(num, \"is not a prime number\")\n"
   ]
  },
  {
   "cell_type": "code",
   "execution_count": 3,
   "id": "ae9f821a-ba68-44af-9898-93b8ae33533f",
   "metadata": {},
   "outputs": [
    {
     "name": "stdout",
     "output_type": "stream",
     "text": [
      "Yes\n"
     ]
    }
   ],
   "source": [
    "# Write a python program to check whether a given string is palindrome or not.\n",
    "def isPalindrome(s):\n",
    "    return s == s[::-1]\n",
    "\n",
    "s = \"malayalam\"\n",
    "ans = isPalindrome(s)\n",
    "\n",
    "if ans:\n",
    "    print(\"Yes\")\n",
    "else:\n",
    "    print(\"No\")"
   ]
  },
  {
   "cell_type": "code",
   "execution_count": 6,
   "id": "4eb4afa6-2d4f-4fec-ae56-bdad06bcfdc3",
   "metadata": {},
   "outputs": [
    {
     "name": "stdout",
     "output_type": "stream",
     "text": [
      "{'Y': 1, 'O': 2, 'L': 2, ' ': 1, 'I': 1, 'F': 1, 'E': 1}\n"
     ]
    }
   ],
   "source": [
    "Write a python program to print the frequency of each of the characters present in a given string.\n",
    "str = \"YOLO LIFE\"\n",
    "dict = {}\n",
    "\n",
    "for i in str:\n",
    "    # if i already appears as key in dict, increment the count\n",
    "    if i in dict:\n",
    "        dict[i] += 1\n",
    "\n",
    "    # else i appears for the first time, add to dict\n",
    "    else:\n",
    "        dict[i] = 1\n",
    "\n",
    "# printing result \n",
    "print(dict)\n"
   ]
  },
  {
   "cell_type": "code",
   "execution_count": 9,
   "id": "e79e9f02-f1dd-443a-8ad6-9f7f78d5ff5a",
   "metadata": {},
   "outputs": [
    {
     "name": "stdout",
     "output_type": "stream",
     "text": [
      "4.47213595499958\n"
     ]
    }
   ],
   "source": [
    "\n",
    "from math import sqrt\n",
    "\n",
    "def hypotenuse_side(a, b):\n",
    "    h = sqrt(a**2 + b**2)\n",
    "    return h\n",
    "\n",
    "# driver program to test the above function\n",
    "if __name__ == '__main__':\n",
    "    a = 2\n",
    "    b = 4\n",
    "    print(hypotenuse_side(a, b))\n"
   ]
  },
  {
   "cell_type": "code",
   "execution_count": null,
   "id": "f8b3eb00-7fe3-4c9c-9fc7-babdac060302",
   "metadata": {},
   "outputs": [],
   "source": []
  }
 ],
 "metadata": {
  "kernelspec": {
   "display_name": "Python 3 (ipykernel)",
   "language": "python",
   "name": "python3"
  },
  "language_info": {
   "codemirror_mode": {
    "name": "ipython",
    "version": 3
   },
   "file_extension": ".py",
   "mimetype": "text/x-python",
   "name": "python",
   "nbconvert_exporter": "python",
   "pygments_lexer": "ipython3",
   "version": "3.12.4"
  }
 },
 "nbformat": 4,
 "nbformat_minor": 5
}
